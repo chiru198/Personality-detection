{
 "cells": [
  {
   "cell_type": "code",
   "execution_count": 15,
   "id": "d482c609",
   "metadata": {},
   "outputs": [],
   "source": [
    "import numpy as np\n",
    "import pandas as pd\n",
    "import matplotlib.pyplot as plt\n",
    "from sklearn.preprocessing import LabelEncoder\n",
    "from sklearn.linear_model import LogisticRegression\n",
    "from sklearn.model_selection import train_test_split\n",
    "from sklearn.metrics import accuracy_score\n",
    "from sklearn.pipeline import Pipeline\n",
    "from sklearn.compose import ColumnTransformer\n",
    "from sklearn.impute import KNNImputer, SimpleImputer\n",
    "from sklearn.preprocessing import OrdinalEncoder, StandardScaler\n",
    "from sklearn.tree import DecisionTreeClassifier\n",
    "import joblib"
   ]
  },
  {
   "cell_type": "code",
   "execution_count": 16,
   "id": "1d770552",
   "metadata": {},
   "outputs": [],
   "source": [
    "clf_pipeline = joblib.load('clf_pipeline_model.pkl')\n"
   ]
  },
  {
   "cell_type": "code",
   "execution_count": 17,
   "id": "5c4c687c",
   "metadata": {},
   "outputs": [],
   "source": [
    "\n",
    "\n",
    "class PersonalityPredictor:\n",
    "    def __init__(self, pipeline, numeric_columns, categorical_columns):\n",
    "        \n",
    "        self.pipeline = clf_pipeline\n",
    "        self.feature_columns = numeric_columns + categorical_columns\n",
    "\n",
    "    def predict(self, input_data):\n",
    "       \n",
    "        # Convert dict to DataFrame if needed\n",
    "        if isinstance(input_data, dict):\n",
    "            input_df = pd.DataFrame([input_data])\n",
    "        else:\n",
    "            input_df = input_data\n",
    "\n",
    "        # Ensure column order and presence\n",
    "        input_df = input_df[self.feature_columns]\n",
    "\n",
    "        # Predict using pipeline\n",
    "        prediction = self.pipeline.predict(input_df)\n",
    "        return prediction[0]"
   ]
  },
  {
   "cell_type": "code",
   "execution_count": null,
   "id": "1d787ba5",
   "metadata": {},
   "outputs": [],
   "source": [
    "test_1 = {\n",
    "    'Time_spent_Alone': 6.0,\n",
    "    'Social_event_attendance': 0,\n",
    "    'Going_outside': 1.0,\n",
    "    'Friends_circle_size': 2,\n",
    "    'Post_frequency': 1,\n",
    "    'Stage_fear': 'Yes',   \n",
    "    'Drained_after_socializing': 'No' \n",
    "}\n"
   ]
  },
  {
   "cell_type": "code",
   "execution_count": null,
   "id": "7991fbd7",
   "metadata": {},
   "outputs": [],
   "source": [
    "test_2 = {\n",
    "    'Time_spent_Alone': 1.0,\n",
    "    'Social_event_attendance': 6,\n",
    "    'Going_outside': 4.0,\n",
    "    'Friends_circle_size': 12,\n",
    "    'Post_frequency': 5,\n",
    "    'Stage_fear': 'No',   \n",
    "    'Drained_after_socializing': 'No'  \n",
    "}\n"
   ]
  },
  {
   "cell_type": "code",
   "execution_count": 40,
   "id": "b285cefc",
   "metadata": {},
   "outputs": [],
   "source": [
    "test_3 = {\n",
    "    'Time_spent_Alone': 3.0,\n",
    "    'Social_event_attendance': 2,\n",
    "    'Going_outside': 2.0,\n",
    "    'Friends_circle_size': 6,\n",
    "    'Post_frequency': 3,\n",
    "    'Stage_fear': 'No',\n",
    "    'Drained_after_socializing': 'No'\n",
    "}\n"
   ]
  },
  {
   "cell_type": "code",
   "execution_count": null,
   "id": "2db75c37",
   "metadata": {},
   "outputs": [
    {
     "name": "stdout",
     "output_type": "stream",
     "text": [
      "\n",
      "\n",
      "🧠 Predicted Personality: Introvert\n"
     ]
    }
   ],
   "source": [
    "predictor = PersonalityPredictor(\n",
    "    pipeline=clf_pipeline,\n",
    "    numeric_columns=[\n",
    "        'Time_spent_Alone', \n",
    "        'Social_event_attendance', \n",
    "        'Going_outside', \n",
    "        'Friends_circle_size', \n",
    "        'Post_frequency'\n",
    "    ],\n",
    "    categorical_columns=[\n",
    "        'Stage_fear', \n",
    "        'Drained_after_socializing'\n",
    "    ]\n",
    ")\n",
    "\n",
    "new_person = {\n",
    "   'Time_spent_Alone': 6.0,\n",
    "    'Social_event_attendance': 0,\n",
    "    'Going_outside': 1.0,\n",
    "    'Friends_circle_size': 2,\n",
    "    'Post_frequency': 1,\n",
    "    'Stage_fear': 'Yes',   # Yes\n",
    "    'Drained_after_socializing': 'No'\n",
    "}\n",
    "\n",
    "\n",
    "\n",
    "result = predictor.predict(new_person)\n",
    "print(\"\\n\\nPredicted Personality:\", result)\n"
   ]
  }
 ],
 "metadata": {
  "kernelspec": {
   "display_name": "venv",
   "language": "python",
   "name": "python3"
  },
  "language_info": {
   "codemirror_mode": {
    "name": "ipython",
    "version": 3
   },
   "file_extension": ".py",
   "mimetype": "text/x-python",
   "name": "python",
   "nbconvert_exporter": "python",
   "pygments_lexer": "ipython3",
   "version": "3.10.0"
  }
 },
 "nbformat": 4,
 "nbformat_minor": 5
}
